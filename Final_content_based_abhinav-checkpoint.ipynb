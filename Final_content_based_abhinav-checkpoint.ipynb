{
 "cells": [
  {
   "cell_type": "markdown",
   "metadata": {},
   "source": [
    "#### Load required libraries"
   ]
  },
  {
   "cell_type": "code",
   "execution_count": null,
   "metadata": {
    "collapsed": true
   },
   "outputs": [],
   "source": [
    "%matplotlib inline\n",
    "# import necessary libraries and specify that graphs should be plotted inline. \n",
    "import numpy as np\n",
    "import pandas as pd\n",
    "import graphlab\n",
    "from pandas import Series,DataFrame\n",
    "from IPython.display import display, HTML\n",
    "import matplotlib.pyplot as plt\n",
    "from matplotlib.colors import ListedColormap\n",
    "from sklearn import preprocessing\n",
    "import json\n",
    "from pprint import pprint\n",
    "import plotly.plotly as py\n",
    "from plotly.tools import FigureFactory as FF\n",
    "from ggplot import *\n",
    "import plotly.graph_objs as go\n",
    "import json\n",
    "import graphlab as gl"
   ]
  },
  {
   "cell_type": "code",
   "execution_count": null,
   "metadata": {
    "collapsed": true
   },
   "outputs": [],
   "source": [
    "from sklearn.feature_extraction.text import TfidfVectorizer\n",
    "from sklearn.feature_extraction.text import TfidfTransformer\n",
    "from sklearn.feature_extraction.text import CountVectorizer\n",
    "import pandas as pd\n",
    "from pandas import Series,DataFrame\n",
    "import nltk\n",
    "import string\n",
    "import os\n",
    "from nltk.stem.porter import PorterStemmer"
   ]
  },
  {
   "cell_type": "markdown",
   "metadata": {},
   "source": [
    "#### Join Restaurant and Review Data"
   ]
  },
  {
   "cell_type": "code",
   "execution_count": 4,
   "metadata": {
    "collapsed": true
   },
   "outputs": [
    {
     "ename": "NameError",
     "evalue": "name 'pd' is not defined",
     "output_type": "error",
     "traceback": [
      "\u001b[1;31m---------------------------------------------------------------------------\u001b[0m",
      "\u001b[1;31mNameError\u001b[0m                                 Traceback (most recent call last)",
      "\u001b[1;32m<ipython-input-4-377443e8d425>\u001b[0m in \u001b[0;36m<module>\u001b[1;34m()\u001b[0m\n\u001b[1;32m----> 1\u001b[1;33m \u001b[0mrestaurant_review\u001b[0m \u001b[1;33m=\u001b[0m \u001b[0mpd\u001b[0m\u001b[1;33m.\u001b[0m\u001b[0mmerge\u001b[0m\u001b[1;33m(\u001b[0m\u001b[0mreview\u001b[0m\u001b[1;33m,\u001b[0m \u001b[0mrestaurants\u001b[0m\u001b[1;33m,\u001b[0m \u001b[0mhow\u001b[0m \u001b[1;33m=\u001b[0m \u001b[1;34m'inner'\u001b[0m\u001b[1;33m,\u001b[0m\u001b[0mleft_on\u001b[0m \u001b[1;33m=\u001b[0m  \u001b[1;34m'business_id'\u001b[0m\u001b[1;33m,\u001b[0m \u001b[0mright_on\u001b[0m \u001b[1;33m=\u001b[0m \u001b[1;34m'business_id'\u001b[0m\u001b[1;33m)\u001b[0m\u001b[1;33m\u001b[0m\u001b[0m\n\u001b[0m",
      "\u001b[1;31mNameError\u001b[0m: name 'pd' is not defined"
     ]
    }
   ],
   "source": [
    "restaurant_review = pd.merge(review_LV, restaurant_LV, how = 'inner',left_on =  'business_id', right_on = 'business_id')"
   ]
  },
  {
   "cell_type": "markdown",
   "metadata": {},
   "source": [
    "#### Joining all the reviews for each business"
   ]
  },
  {
   "cell_type": "code",
   "execution_count": null,
   "metadata": {
    "collapsed": true
   },
   "outputs": [],
   "source": [
    "restaurant_review = restaurant_review.groupby('business_id')['text'].apply(' '.join).reset_index()"
   ]
  },
  {
   "cell_type": "code",
   "execution_count": null,
   "metadata": {
    "collapsed": true
   },
   "outputs": [],
   "source": [
    "restaurant_review = restaurant_review[['business_id','text']]"
   ]
  },
  {
   "cell_type": "markdown",
   "metadata": {},
   "source": [
    "#### Remove not useful characters from text"
   ]
  },
  {
   "cell_type": "code",
   "execution_count": null,
   "metadata": {
    "collapsed": true
   },
   "outputs": [],
   "source": [
    "restaurant_review['text'] = restaurant_review.text.apply(lambda x: x.replace(\"\\\\\",\"\"))\n",
    "restaurant_review['text'] = restaurant_review.text.apply(lambda x: x.replace(\",\",\" \"))#.replace(\"\\\\\",\"\")\n",
    "restaurant_review['text'] = restaurant_review.text.apply(lambda x: x.replace(\"\\n\\n\",\" \"))#.replace(\"\\\\\",\"\")\n",
    "restaurant_review['text'] = restaurant_review.text.apply(lambda x: x.replace(\"u'\",\"\"))#.replace(\"\\\\\",\"\")"
   ]
  },
  {
   "cell_type": "markdown",
   "metadata": {},
   "source": [
    "#### Functions for stemming and Tokenization"
   ]
  },
  {
   "cell_type": "code",
   "execution_count": null,
   "metadata": {
    "collapsed": true
   },
   "outputs": [],
   "source": [
    "from nltk.stem.porter import PorterStemmer\n",
    "from nltk.tokenize import RegexpTokenizer\n",
    "\n",
    "\n",
    "def stem_tokens(tokens, stemmer):\n",
    "    stemmed = []\n",
    "    for item in tokens:\n",
    "        stemmed.append(stemmer.stem(item))\n",
    "    return stemmed\n",
    "\n",
    "def tokenize(text):\n",
    "    tokenizer = RegexpTokenizer(r'([a-zA-Z]+)')\n",
    "    tokens = tokenizer.tokenize(text)\n",
    "    stemmer = PorterStemmer()\n",
    "    stems = stem_tokens(tokens, stemmer)\n",
    "    return stems"
   ]
  },
  {
   "cell_type": "markdown",
   "metadata": {},
   "source": [
    "#### Get TFIDF matrix"
   ]
  },
  {
   "cell_type": "code",
   "execution_count": null,
   "metadata": {
    "collapsed": true
   },
   "outputs": [],
   "source": [
    "from sklearn.feature_extraction.text import TfidfVectorizer\n",
    "tf = TfidfVectorizer(analyzer='word', ngram_range=(1,2), min_df = 0, stop_words = 'english',tokenizer=tokenize,max_features = 120)"
   ]
  },
  {
   "cell_type": "code",
   "execution_count": null,
   "metadata": {
    "collapsed": true
   },
   "outputs": [],
   "source": [
    "corpus = []\n",
    "for line in sorted(restaurant_review.itertuples(), key=lambda t: int(t[0])):\n",
    "    corpus.append(line[2])"
   ]
  },
  {
   "cell_type": "code",
   "execution_count": null,
   "metadata": {
    "collapsed": true
   },
   "outputs": [],
   "source": [
    "tfidf_matrix =  tf.fit_transform(corpus)\n",
    "feature_names = tf.get_feature_names()"
   ]
  },
  {
   "cell_type": "markdown",
   "metadata": {},
   "source": [
    "#### Create TFIDF DataFrame"
   ]
  },
  {
   "cell_type": "code",
   "execution_count": null,
   "metadata": {
    "collapsed": true
   },
   "outputs": [],
   "source": [
    "tfidf_dataframe = pd.DataFrame(tfidf_matrix.todense(), columns = feature_names)"
   ]
  },
  {
   "cell_type": "markdown",
   "metadata": {},
   "source": [
    "#### Add TFIDF data to the table with restaurant attributes"
   ]
  },
  {
   "cell_type": "code",
   "execution_count": null,
   "metadata": {
    "collapsed": true
   },
   "outputs": [],
   "source": [
    "content_based_df = pd.merge(restaurant_review, tfidf_dataframe, left_on = 'business_id', right_on='business_id', how = 'left')"
   ]
  },
  {
   "cell_type": "markdown",
   "metadata": {},
   "source": [
    "#### Replace spaces in column names with underscore"
   ]
  },
  {
   "cell_type": "code",
   "execution_count": null,
   "metadata": {
    "collapsed": true
   },
   "outputs": [],
   "source": [
    "new_col = []\n",
    "for col in content_based_df.columns.values:\n",
    "    colx = col.replace (\" \", \"_\")\n",
    "    coly = colx.replace(\"-\",\"_\")\n",
    "    new_col.append(coly)\n",
    "    \n",
    "content_based_df.columns = new_col"
   ]
  },
  {
   "cell_type": "markdown",
   "metadata": {},
   "source": [
    "#### Impute Missing Values"
   ]
  },
  {
   "cell_type": "code",
   "execution_count": null,
   "metadata": {
    "collapsed": true
   },
   "outputs": [],
   "source": [
    "#IMPUTING MISSING VALUES\n",
    "#Some assumptions are made here hoping they will not have a major effect (low counts of missing values)\n",
    "\n",
    "#content_based_df[content_based_df['Acc_credit_card'] == True]\n",
    "content_based_df['Good_For'] = content_based_df['Good_For'].replace('N/A',0)\n",
    "content_based_df['Acc_credit_card'] = content_based_df['Acc_credit_card'].replace('N/A',False)\n",
    "content_based_df['Alcohol'] = content_based_df['Alcohol'].replace('N/A','unknown')\n",
    "content_based_df['Ambience'] = content_based_df['Ambience'].replace('N/A',0)\n",
    "content_based_df['Delivery'] = content_based_df['Delivery'].replace('N/A',False)\n",
    "content_based_df['Parking'] = content_based_df['Parking'].fillna(0)\n",
    "content_based_df['Price_Range'] = content_based_df['Price_Range'].replace('N/A',2.5)\n",
    "content_based_df['Take_out'] = content_based_df['Take_out'].replace('N/A',False)\n",
    "content_based_df['Takes_Reservations'] = content_based_df['Takes_Reservations'].replace('N/A',False)\n",
    "content_based_df['Waiter_Service'] = content_based_df['Waiter_Service'].replace('N/A',False)\n",
    "content_based_df['Noise_Level'] = content_based_df['Noise_Level'].replace('N/A','average')\n",
    "content_based_df['Outdoor_Seating'] = content_based_df['Outdoor_Seating'].replace('N/A',False)\n",
    "\n",
    "#review[['Take-out']]\n",
    "#rest_revw.columns.values"
   ]
  },
  {
   "cell_type": "markdown",
   "metadata": {},
   "source": [
    "#### Seperate user item interaction data"
   ]
  },
  {
   "cell_type": "code",
   "execution_count": null,
   "metadata": {
    "collapsed": true
   },
   "outputs": [],
   "source": [
    "observation_data = content_based_df[[\"business_id\",\"user_id\",\"stars_x\"]]"
   ]
  },
  {
   "cell_type": "markdown",
   "metadata": {},
   "source": [
    "#### Get item attribute data"
   ]
  },
  {
   "cell_type": "code",
   "execution_count": null,
   "metadata": {
    "collapsed": true
   },
   "outputs": [],
   "source": [
    "item_data = pd.merge(restaurant_review,restaurants_LV, left_on = 'business_id', right_on='business_id', how = 'inner')"
   ]
  },
  {
   "cell_type": "code",
   "execution_count": 5,
   "metadata": {
    "collapsed": true
   },
   "outputs": [
    {
     "ename": "NameError",
     "evalue": "name 'item_data' is not defined",
     "output_type": "error",
     "traceback": [
      "\u001b[1;31m---------------------------------------------------------------------------\u001b[0m",
      "\u001b[1;31mNameError\u001b[0m                                 Traceback (most recent call last)",
      "\u001b[1;32m<ipython-input-5-e2141b901b83>\u001b[0m in \u001b[0;36m<module>\u001b[1;34m()\u001b[0m\n\u001b[1;32m----> 1\u001b[1;33m item_data = item_data[['business_id',\n\u001b[0m\u001b[0;32m      2\u001b[0m        \u001b[1;34m'open'\u001b[0m\u001b[1;33m,\u001b[0m \u001b[1;34m'review_count'\u001b[0m\u001b[1;33m,\u001b[0m \u001b[1;34m'stars'\u001b[0m\u001b[1;33m,\u001b[0m \u001b[1;34m'Acc_credit_card'\u001b[0m\u001b[1;33m,\u001b[0m \u001b[1;34m'Alcohol'\u001b[0m\u001b[1;33m,\u001b[0m\u001b[1;33m\u001b[0m\u001b[0m\n\u001b[0;32m      3\u001b[0m        \u001b[1;34m'Ambience'\u001b[0m\u001b[1;33m,\u001b[0m \u001b[1;34m'Delivery'\u001b[0m\u001b[1;33m,\u001b[0m \u001b[1;34m'Parking'\u001b[0m\u001b[1;33m,\u001b[0m \u001b[1;34m'Price_Range'\u001b[0m\u001b[1;33m,\u001b[0m\u001b[1;33m\u001b[0m\u001b[0m\n\u001b[0;32m      4\u001b[0m        \u001b[1;34m'Take_out'\u001b[0m\u001b[1;33m,\u001b[0m \u001b[1;34m'Takes_Reservations'\u001b[0m\u001b[1;33m,\u001b[0m \u001b[1;34m'Waiter_Service'\u001b[0m\u001b[1;33m,\u001b[0m \u001b[1;34m'Noise_Level'\u001b[0m\u001b[1;33m,\u001b[0m \u001b[1;34m'Good_For'\u001b[0m\u001b[1;33m,\u001b[0m\u001b[1;33m\u001b[0m\u001b[0m\n\u001b[0;32m      5\u001b[0m        \u001b[1;34m'Outdoor_Seating'\u001b[0m\u001b[1;33m,\u001b[0m \u001b[1;34m'alway'\u001b[0m\u001b[1;33m,\u001b[0m \u001b[1;34m'amaz'\u001b[0m\u001b[1;33m,\u001b[0m  \u001b[1;34m'bad'\u001b[0m\u001b[1;33m,\u001b[0m \u001b[1;34m'bar'\u001b[0m\u001b[1;33m,\u001b[0m\u001b[1;33m\u001b[0m\u001b[0m\n",
      "\u001b[1;31mNameError\u001b[0m: name 'item_data' is not defined"
     ]
    }
   ],
   "source": [
    "item_data = item_data[['business_id',\n",
    "       'open', 'review_count', 'stars', 'Acc_credit_card', 'Alcohol',\n",
    "       'Ambience', 'Delivery', 'Parking', 'Price_Range',\n",
    "       'Take_out', 'Takes_Reservations', 'Waiter_Service', 'Noise_Level', 'Good_For',\n",
    "       'Outdoor_Seating', 'alway', 'amaz',  'bad', 'bar',\n",
    "        'beer', 'befor', 'best', 'better', 'bit', 'bread',\n",
    "       'burger', 'busi', 'came', 'chees', 'chicken', 'come', 'cook', 'day',\n",
    "       'definit', 'delici','dinner', 'dish',\n",
    "        'drink', 'eat', 'enjoy', 'everyth', 'experi',\n",
    "       'favorit', 'flavor', 'food', 'food_wa', 'fresh', 'fri', 'friend',\n",
    "       'friendli', 'good', 'got', 'great', 'hot', 'hour', 'just',\n",
    "       'know', 'like', 'littl', 'locat',  'lot', 'love', 'lunch',\n",
    "        'make', 'meal', 'meat', 'menu', 'minut', 'nice', 'night',\n",
    "       'onli', 'order', 'peopl', 'pizza', 'place', 'pretti', 'price',\n",
    "       'realli', 'recommend', 'restaur', 'review', 'right', 'roll',\n",
    "        'salad', 'sandwich', 'sauc', 'seat', 'serv',\n",
    "       'server', 'servic', 'servic_wa', 'small', 'special',\n",
    "       'staff', 'star', 'steak', 'sure', 'sushi', 'tabl', 'tast',\n",
    "        'think', 'time', 'tri', 'vega',\n",
    "       'visit', 'wa_good', 'wait', 'want', 'way']]"
   ]
  },
  {
   "cell_type": "markdown",
   "metadata": {},
   "source": [
    "### Create SFrame using Graphlab"
   ]
  },
  {
   "cell_type": "code",
   "execution_count": null,
   "metadata": {
    "collapsed": true
   },
   "outputs": [],
   "source": [
    "item_data_sf = gl.SFrame(item_data_x)\n",
    "observation_data_sf = gl.SFrame(observation_data)"
   ]
  },
  {
   "cell_type": "code",
   "execution_count": null,
   "metadata": {
    "collapsed": true
   },
   "outputs": [],
   "source": [
    "## Split the dataset into train and test"
   ]
  },
  {
   "cell_type": "code",
   "execution_count": null,
   "metadata": {
    "collapsed": true
   },
   "outputs": [],
   "source": [
    "train, test = gl.recommender.util.random_split_by_user(observation_data_sf,item_id = \"business_id\", user_id = \"user_id\", max_num_users=2000)"
   ]
  },
  {
   "cell_type": "markdown",
   "metadata": {},
   "source": [
    "### Build the model using training set"
   ]
  },
  {
   "cell_type": "code",
   "execution_count": null,
   "metadata": {
    "collapsed": true
   },
   "outputs": [],
   "source": [
    "m = gl.recommender.item_content_recommender.create(item_data_sf,observation_data = train, target= \"stars_x\",item_id=\"business_id\",user_id = \"user_id\",max_item_neighborhood_size=64)"
   ]
  },
  {
   "cell_type": "markdown",
   "metadata": {},
   "source": [
    "### Evaluate RMSE on test"
   ]
  },
  {
   "cell_type": "code",
   "execution_count": null,
   "metadata": {
    "collapsed": true
   },
   "outputs": [],
   "source": [
    "m.evaluate_rmse(test, target=\"stars_x\")"
   ]
  },
  {
   "cell_type": "markdown",
   "metadata": {},
   "source": [
    "### Evaluate Precision and Recall on test"
   ]
  },
  {
   "cell_type": "code",
   "execution_count": null,
   "metadata": {
    "collapsed": true
   },
   "outputs": [],
   "source": [
    "m.evaluate_precision_recall(test)"
   ]
  }
 ],
 "metadata": {
  "anaconda-cloud": {},
  "kernelspec": {
   "display_name": "Python [conda root]",
   "language": "python",
   "name": "conda-root-py"
  },
  "language_info": {
   "codemirror_mode": {
    "name": "ipython",
    "version": 3
   },
   "file_extension": ".py",
   "mimetype": "text/x-python",
   "name": "python",
   "nbconvert_exporter": "python",
   "pygments_lexer": "ipython3",
   "version": "3.5.2"
  }
 },
 "nbformat": 4,
 "nbformat_minor": 0
}
